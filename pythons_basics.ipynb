{
 "cells": [
  {
   "cell_type": "code",
   "execution_count": 1,
   "metadata": {},
   "outputs": [
    {
     "name": "stdout",
     "output_type": "stream",
     "text": [
      "Hello world :)\n"
     ]
    }
   ],
   "source": [
    "# I Always start with hello world\n",
    "\n",
    "print(\"Hello world :)\")"
   ]
  },
  {
   "cell_type": "code",
   "execution_count": 2,
   "metadata": {},
   "outputs": [
    {
     "data": {
      "text/plain": [
       "(1, 2)"
      ]
     },
     "execution_count": 2,
     "metadata": {},
     "output_type": "execute_result"
    }
   ],
   "source": [
    "# creating variables in python\n",
    "a = 1\n",
    "b = 2\n",
    "\n",
    "a,b"
   ]
  },
  {
   "cell_type": "code",
   "execution_count": 7,
   "metadata": {},
   "outputs": [
    {
     "data": {
      "text/plain": [
       "1"
      ]
     },
     "execution_count": 7,
     "metadata": {},
     "output_type": "execute_result"
    }
   ],
   "source": [
    "# Data Structures \n",
    "\n",
    "# Start with List\n",
    "\n",
    "list = [1,2,3,4]\n",
    "# accessing the list\n",
    "list[-1] #access the last item\n",
    "list[0]\n"
   ]
  },
  {
   "cell_type": "code",
   "execution_count": 9,
   "metadata": {},
   "outputs": [
    {
     "data": {
      "text/plain": [
       "[1, 4, 9, 16]"
      ]
     },
     "execution_count": 9,
     "metadata": {},
     "output_type": "execute_result"
    }
   ],
   "source": [
    "# List Comprehension\n",
    "\n",
    "list2 = [elem**2 for elem in list]\n",
    "list2"
   ]
  },
  {
   "cell_type": "code",
   "execution_count": 14,
   "metadata": {},
   "outputs": [
    {
     "name": "stdout",
     "output_type": "stream",
     "text": [
      "{'car': 'Honda', 'car2': 'Toyota'}\n"
     ]
    }
   ],
   "source": [
    "# Dictionary\n",
    "# Time complexity for accessing the item in a dictionary is o(1) where for list it is O(n)\n",
    "# to create a dic you need to follow a key-value pair syntax\n",
    "dic = {\"car\":\"Honda\"}\n",
    "\n",
    "# access the item from dic, you need to use the key to get the value like below\n",
    "\n",
    "dic[\"car\"]\n",
    "# add element to the dictionary\n",
    "dic[\"car2\"] = \"Toyota\"\n",
    "\n",
    "print(dic)\n"
   ]
  },
  {
   "cell_type": "code",
   "execution_count": 20,
   "metadata": {},
   "outputs": [
    {
     "name": "stdout",
     "output_type": "stream",
     "text": [
      "[2, 4, 6, 8, 10, 12, 14, 16, 18, 20, 22, 24, 26, 28, 30, 32, 34, 36, 38, 40, 42, 44, 46, 48, 50, 52, 54, 56, 58, 60, 62, 64, 66, 68, 70, 72, 74, 76, 78, 80, 82, 84, 86, 88, 90, 92, 94, 96, 98]\n",
      "{2: 2, 4: 4, 6: 6, 8: 8, 10: 10, 12: 12, 14: 14, 16: 16, 18: 18, 20: 20, 22: 22, 24: 24, 26: 26, 28: 28, 30: 30, 32: 32, 34: 34, 36: 36, 38: 38, 40: 40, 42: 42, 44: 44, 46: 46, 48: 48, 50: 50, 52: 52, 54: 54, 56: 56, 58: 58, 60: 60, 62: 62, 64: 64, 66: 66, 68: 68, 70: 70, 72: 72, 74: 74, 76: 76, 78: 78, 80: 80, 82: 82, 84: 84, 86: 86, 88: 88, 90: 90, 92: 92, 94: 94, 96: 96, 98: 98}\n"
     ]
    }
   ],
   "source": [
    "# Dictionary Comprehension\n",
    "list_of_even_numbers = [ i for i in range(1,100) if i%2==0 ]\n",
    "print(list_of_even_numbers)\n",
    "\n",
    "dic_of_even_numbers = {a:a for a in list_of_even_numbers}\n",
    "print(dic_of_even_numbers)"
   ]
  },
  {
   "cell_type": "markdown",
   "metadata": {},
   "source": [
    "<h3>Function in Python</h3>"
   ]
  },
  {
   "cell_type": "code",
   "execution_count": 21,
   "metadata": {},
   "outputs": [
    {
     "data": {
      "text/plain": [
       "5"
      ]
     },
     "execution_count": 21,
     "metadata": {},
     "output_type": "execute_result"
    }
   ],
   "source": [
    "# def keyword to create a function\n",
    "\n",
    "def sum(a,b):\n",
    "    return a+b\n",
    "\n",
    "sum = sum(2,3)\n",
    "sum"
   ]
  },
  {
   "cell_type": "code",
   "execution_count": 23,
   "metadata": {},
   "outputs": [
    {
     "data": {
      "text/plain": [
       "(1, 'hello world')"
      ]
     },
     "execution_count": 23,
     "metadata": {},
     "output_type": "execute_result"
    }
   ],
   "source": [
    "# return two things\n",
    "\n",
    "def sub(a,b):\n",
    "    return a-b, \"hello world\"\n",
    "\n",
    "sub(2,1)"
   ]
  },
  {
   "cell_type": "code",
   "execution_count": 24,
   "metadata": {},
   "outputs": [
    {
     "data": {
      "text/plain": [
       "25"
      ]
     },
     "execution_count": 24,
     "metadata": {},
     "output_type": "execute_result"
    }
   ],
   "source": [
    "# Lambds are one line functions\n",
    "# use lambda keyword to create such fucntion\n",
    "\n",
    "double_number = lambda x: x**2\n",
    "double_number(5) "
   ]
  },
  {
   "cell_type": "markdown",
   "metadata": {},
   "source": [
    "<h2>NUMPY</h2>"
   ]
  },
  {
   "cell_type": "code",
   "execution_count": 2,
   "metadata": {},
   "outputs": [
    {
     "data": {
      "text/plain": [
       "array([2, 4, 6])"
      ]
     },
     "execution_count": 2,
     "metadata": {},
     "output_type": "execute_result"
    }
   ],
   "source": [
    "# Assume you want to sum two list elements like this\n",
    "# a1 = [1,2,3] a2=[1,2,3] final=[2,4,6]\n",
    "# this you can not do with list summing for this you have to use NUMPY\n",
    "# to use numpy you have to import it\n",
    "\n",
    "import numpy as np\n",
    "a1 = [1,2,3]\n",
    "a2 = [1,2,3]\n",
    "a1 = np.array(a1)\n",
    "a2 = np.array(a2)\n",
    "a1+a2"
   ]
  },
  {
   "cell_type": "markdown",
   "metadata": {},
   "source": [
    " <h2>Conditional Statements</h2>"
   ]
  },
  {
   "cell_type": "code",
   "execution_count": 3,
   "metadata": {},
   "outputs": [
    {
     "name": "stdout",
     "output_type": "stream",
     "text": [
      "positive number\n"
     ]
    }
   ],
   "source": [
    "# if-else statements\n",
    "\n",
    "a = 10\n",
    "\n",
    "if a  < 0:\n",
    "    print(\"negative number\")\n",
    "elif a > 0:\n",
    "    print(\"positive number\")\n",
    "else:\n",
    "    print(\"its zero\")\n",
    "    "
   ]
  },
  {
   "cell_type": "code",
   "execution_count": 4,
   "metadata": {},
   "outputs": [
    {
     "name": "stdout",
     "output_type": "stream",
     "text": [
      "matched\n"
     ]
    }
   ],
   "source": [
    "# a more convince in python for string \n",
    "# suppose you want to search a specific characters in the string \n",
    "\n",
    "greetings = \"hello I am hadsaw\"\n",
    "\n",
    "if \"I am\" in greetings:\n",
    "    print(\"matched\")"
   ]
  },
  {
   "cell_type": "code",
   "execution_count": 5,
   "metadata": {},
   "outputs": [
    {
     "name": "stdout",
     "output_type": "stream",
     "text": [
      "1\n",
      "2\n",
      "3\n",
      "4\n",
      "5\n",
      "6\n",
      "7\n",
      "8\n",
      "9\n"
     ]
    }
   ],
   "source": [
    "# for loops\n",
    "for i in range(1,10):\n",
    "    print(i)"
   ]
  },
  {
   "cell_type": "markdown",
   "metadata": {},
   "source": [
    "<h2>Pandas</h2>"
   ]
  },
  {
   "cell_type": "code",
   "execution_count": 7,
   "metadata": {},
   "outputs": [],
   "source": [
    "# Pandas is libary for data analysis\n",
    "import pandas as pd"
   ]
  }
 ],
 "metadata": {
  "kernelspec": {
   "display_name": "Python 3",
   "language": "python",
   "name": "python3"
  },
  "language_info": {
   "codemirror_mode": {
    "name": "ipython",
    "version": 3
   },
   "file_extension": ".py",
   "mimetype": "text/x-python",
   "name": "python",
   "nbconvert_exporter": "python",
   "pygments_lexer": "ipython3",
   "version": "3.12.1"
  }
 },
 "nbformat": 4,
 "nbformat_minor": 2
}
